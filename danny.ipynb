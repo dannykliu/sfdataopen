{
 "cells": [
  {
   "cell_type": "code",
   "execution_count": 107,
   "metadata": {
    "collapsed": true
   },
   "outputs": [],
   "source": [
    "import pandas\n",
    "import numpy as np\n",
    "from sklearn.cluster import KMeans\n",
    "from sklearn.mixture import GaussianMixture\n",
    "\n",
    "np.set_printoptions(suppress=True)"
   ]
  },
  {
   "cell_type": "code",
   "execution_count": 7,
   "metadata": {
    "collapsed": true
   },
   "outputs": [],
   "source": [
    "import pandas\n",
    "\n",
    "#load data\n",
    "airports=pandas.read_csv(\"data/airports.csv\",encoding = \"latin1\")\n",
    "events_US=pandas.read_csv(\"data/events_US.csv\",encoding = \"latin1\")\n",
    "fares=pandas.read_csv(\"data/fares.csv\",encoding = \"latin1\")\n",
    "flight_traffic=pandas.read_csv(\"data/flight_traffic.csv\",encoding = \"latin1\")\n",
    "stock_prices=pandas.read_csv(\"data/stock_prices.csv\",encoding = \"latin1\")\n",
    "weather=pandas.read_csv(\"data/weather.csv\",encoding = \"latin1\")"
   ]
  },
  {
   "cell_type": "code",
   "execution_count": 56,
   "metadata": {
    "collapsed": false
   },
   "outputs": [
    {
     "name": "stdout",
     "output_type": "stream",
     "text": [
      "(12,) (438,)\n"
     ]
    }
   ],
   "source": [
    "airline_ids = list(np.unique(fares['airline_id'])) + list(np.unique(flight_traffic['airline_id']))\n",
    "airline_ids = np.array(airline_ids[1:])\n",
    "airport_names = np.unique(list(airports['airport_id']) + list(fares['origin_airport']) + list(fares['destination_airport']) + list(flight_traffic['origin_airport']) + list(flight_traffic['destination_airport']))\n",
    "airline_ids = np.unique(flight_traffic['airline_id']) # redefine, only use flight traffic airlines\n",
    "print(airline_ids.shape, airport_names.shape)"
   ]
  },
  {
   "cell_type": "code",
   "execution_count": 53,
   "metadata": {
    "collapsed": true
   },
   "outputs": [],
   "source": [
    "inv_names_map = {}\n",
    "for i in range(airport_names.size):\n",
    "    inv_names_map[airport_names[i]] = i"
   ]
  },
  {
   "cell_type": "code",
   "execution_count": null,
   "metadata": {
    "collapsed": false
   },
   "outputs": [],
   "source": []
  },
  {
   "cell_type": "code",
   "execution_count": null,
   "metadata": {
    "collapsed": false
   },
   "outputs": [],
   "source": []
  },
  {
   "cell_type": "code",
   "execution_count": 119,
   "metadata": {
    "collapsed": false
   },
   "outputs": [],
   "source": [
    "def cluster_airlines(column):\n",
    "    X = np.zeros((12, 438))\n",
    "    for i in range(X.shape[0]):\n",
    "        mask = flight_traffic['airline_id'] == airline_ids[i]\n",
    "        curr_data = flight_traffic.loc[mask]\n",
    "        origins = np.unique(curr_data[column], return_counts=True) # tup (unique, counts)\n",
    "        for j in range(origins[0].size):\n",
    "            X[i, inv_names_map[origins[0][j]]] = origins[1][j]\n",
    "\n",
    "    total_flights_airlines = np.sum(X, axis=1)\n",
    "    total_flights_airports = np.sum(X, axis=0)\n",
    "    nonzero_ind = np.nonzero(total_flights_airports)[0]\n",
    "    X = X[:, nonzero_ind]\n",
    "    print('new X shape', X.shape)\n",
    "    X_norm = X / np.expand_dims(total_flights_airlines, axis=1)\n",
    "    print(airline_ids)\n",
    "\n",
    "    cluster_range = np.arange(2, 10, 1)\n",
    "    for num_clusters in cluster_range:\n",
    "        clusters = {}\n",
    "        gmm = GaussianMixture(n_components=num_clusters, random_state=0).fit(X_norm)\n",
    "        predicted = gmm.predict(X_norm)\n",
    "        for i in range(predicted.size):\n",
    "            assignment = predicted[i]\n",
    "            if assignment not in clusters.keys():\n",
    "                clusters[assignment] = [airline_ids[i]]\n",
    "            else:\n",
    "                clusters[assignment].append(airline_ids[i])\n",
    "        print(num_clusters, clusters)"
   ]
  },
  {
   "cell_type": "code",
   "execution_count": 120,
   "metadata": {
    "collapsed": false
   },
   "outputs": [
    {
     "name": "stdout",
     "output_type": "stream",
     "text": [
      "new X shape (12, 320)\n",
      "['AA' 'AS' 'B6' 'DL' 'EV' 'F9' 'HA' 'NK' 'OO' 'UA' 'VX' 'WN']\n",
      "2 {0: ['AA', 'AS', 'B6', 'DL', 'EV', 'F9', 'HA', 'NK', 'OO', 'UA', 'WN'], 1: ['VX']}\n",
      "3 {0: ['AA', 'AS', 'B6', 'DL', 'EV', 'F9', 'NK', 'OO', 'UA', 'WN'], 1: ['VX'], 2: ['HA']}\n",
      "4 {0: ['AA', 'B6', 'DL', 'EV', 'F9', 'NK', 'OO', 'UA', 'WN'], 1: ['VX'], 2: ['HA'], 3: ['AS']}\n",
      "5 {0: ['F9'], 1: ['VX'], 2: ['HA'], 3: ['AS'], 4: ['AA', 'B6', 'DL', 'EV', 'NK', 'OO', 'UA', 'WN']}\n",
      "6 {0: ['F9'], 1: ['VX'], 2: ['HA'], 3: ['AS'], 4: ['AA', 'DL', 'EV', 'NK', 'OO', 'UA', 'WN'], 5: ['B6']}\n",
      "7 {0: ['F9'], 1: ['VX'], 2: ['HA'], 3: ['AS'], 4: ['AA', 'EV', 'NK', 'OO', 'UA', 'WN'], 5: ['B6'], 6: ['DL']}\n",
      "8 {0: ['F9'], 1: ['HA'], 2: ['AA'], 3: ['VX'], 4: ['DL', 'EV', 'UA'], 5: ['AS'], 6: ['NK', 'OO', 'WN'], 7: ['B6']}\n",
      "9 {0: ['F9'], 1: ['HA'], 2: ['AA'], 3: ['VX'], 4: ['EV', 'UA'], 5: ['AS'], 6: ['NK', 'OO', 'WN'], 7: ['B6'], 8: ['DL']}\n",
      "----------\n",
      "new X shape (12, 320)\n",
      "['AA' 'AS' 'B6' 'DL' 'EV' 'F9' 'HA' 'NK' 'OO' 'UA' 'VX' 'WN']\n",
      "2 {0: ['AA', 'AS', 'B6', 'DL', 'EV', 'F9', 'HA', 'NK', 'OO', 'UA', 'WN'], 1: ['VX']}\n",
      "3 {0: ['AA', 'AS', 'B6', 'DL', 'EV', 'F9', 'NK', 'OO', 'UA', 'WN'], 1: ['VX'], 2: ['HA']}\n",
      "4 {0: ['AA', 'B6', 'DL', 'EV', 'F9', 'NK', 'OO', 'UA', 'WN'], 1: ['VX'], 2: ['HA'], 3: ['AS']}\n",
      "5 {0: ['F9'], 1: ['VX'], 2: ['HA'], 3: ['AS'], 4: ['AA', 'B6', 'DL', 'EV', 'NK', 'OO', 'UA', 'WN']}\n",
      "6 {0: ['F9'], 1: ['VX'], 2: ['HA'], 3: ['AS'], 4: ['AA', 'DL', 'EV', 'NK', 'OO', 'UA', 'WN'], 5: ['B6']}\n",
      "7 {0: ['F9'], 1: ['VX'], 2: ['HA'], 3: ['AS'], 4: ['AA', 'EV', 'NK', 'OO', 'UA', 'WN'], 5: ['B6'], 6: ['DL']}\n",
      "8 {0: ['F9'], 1: ['HA'], 2: ['AA'], 3: ['VX'], 4: ['DL', 'EV', 'UA'], 5: ['AS'], 6: ['NK', 'OO', 'WN'], 7: ['B6']}\n",
      "9 {0: ['F9'], 1: ['HA'], 2: ['AA'], 3: ['VX'], 4: ['EV', 'UA'], 5: ['AS'], 6: ['NK', 'OO', 'WN'], 7: ['B6'], 8: ['DL']}\n"
     ]
    }
   ],
   "source": [
    "cluster_airlines('origin_airport')\n",
    "print('----------')\n",
    "cluster_airlines('destination_airport')"
   ]
  },
  {
   "cell_type": "code",
   "execution_count": null,
   "metadata": {
    "collapsed": true
   },
   "outputs": [],
   "source": []
  }
 ],
 "metadata": {
  "anaconda-cloud": {},
  "kernelspec": {
   "display_name": "Python [default]",
   "language": "python",
   "name": "python3"
  },
  "language_info": {
   "codemirror_mode": {
    "name": "ipython",
    "version": 3
   },
   "file_extension": ".py",
   "mimetype": "text/x-python",
   "name": "python",
   "nbconvert_exporter": "python",
   "pygments_lexer": "ipython3",
   "version": "3.5.2"
  }
 },
 "nbformat": 4,
 "nbformat_minor": 1
}
